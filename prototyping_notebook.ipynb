{
 "cells": [
  {
   "cell_type": "code",
   "execution_count": 59,
   "metadata": {
    "collapsed": true
   },
   "outputs": [],
   "source": [
    "import pandas\n",
    "import statsmodels.formula.api as sm\n",
    "import numpy as np \n",
    "\n",
    "from code import data_clean\n",
    "import datetime"
   ]
  },
  {
   "cell_type": "code",
   "execution_count": 57,
   "metadata": {
    "collapsed": false
   },
   "outputs": [
    {
     "data": {
      "text/plain": [
       "<module 'code.data_clean' from 'code/data_clean.py'>"
      ]
     },
     "execution_count": 57,
     "metadata": {},
     "output_type": "execute_result"
    }
   ],
   "source": [
    "reload(data_clean)"
   ]
  },
  {
   "cell_type": "code",
   "execution_count": 2,
   "metadata": {
    "collapsed": true
   },
   "outputs": [],
   "source": [
    "hn_top = pandas.read_csv('hackernews_march_2015_top.csv.gz')"
   ]
  },
  {
   "cell_type": "code",
   "execution_count": 3,
   "metadata": {
    "collapsed": false
   },
   "outputs": [
    {
     "name": "stdout",
     "output_type": "stream",
     "text": [
      "<class 'pandas.core.frame.DataFrame'>\n",
      "Int64Index: 424865 entries, 0 to 424864\n",
      "Data columns (total 6 columns):\n",
      "id              424865 non-null int64\n",
      "position        424865 non-null int64\n",
      "score           424865 non-null int64\n",
      "age_in_hours    424865 non-null float64\n",
      "numComments     424865 non-null int64\n",
      "timeScraped     424865 non-null object\n",
      "dtypes: float64(1), int64(4), object(1)\n",
      "memory usage: 22.7+ MB\n"
     ]
    }
   ],
   "source": [
    "hn_top.info()"
   ]
  },
  {
   "cell_type": "markdown",
   "metadata": {},
   "source": [
    "## Transform features"
   ]
  },
  {
   "cell_type": "code",
   "execution_count": 46,
   "metadata": {
    "collapsed": true
   },
   "outputs": [],
   "source": [
    "hn_top = data_clean.create_features(hn_top)"
   ]
  },
  {
   "cell_type": "markdown",
   "metadata": {},
   "source": [
    "## Clean data"
   ]
  },
  {
   "cell_type": "code",
   "execution_count": 49,
   "metadata": {
    "collapsed": true
   },
   "outputs": [],
   "source": [
    "hn_top = data_clean.remove_invalid_observations(hn_top)"
   ]
  },
  {
   "cell_type": "markdown",
   "metadata": {},
   "source": [
    "## Remove articles with few observations"
   ]
  },
  {
   "cell_type": "code",
   "execution_count": 56,
   "metadata": {
    "collapsed": true
   },
   "outputs": [],
   "source": [
    "hn_top = data_clean.remove_articles_low_observations(hn_top)"
   ]
  },
  {
   "cell_type": "markdown",
   "metadata": {},
   "source": [
    "## Remove observations time of day"
   ]
  },
  {
   "cell_type": "code",
   "execution_count": 58,
   "metadata": {
    "collapsed": true
   },
   "outputs": [],
   "source": [
    "hn_top = data_clean.remove_observations_time_of_day(hn_top, 8, 20)"
   ]
  },
  {
   "cell_type": "markdown",
   "metadata": {},
   "source": [
    "## Take subsets for tractability"
   ]
  },
  {
   "cell_type": "code",
   "execution_count": 102,
   "metadata": {
    "collapsed": true
   },
   "outputs": [],
   "source": [
    "temp = hn_top[hn_top.dateScraped >= datetime.date(2015, 6,6)]"
   ]
  },
  {
   "cell_type": "markdown",
   "metadata": {},
   "source": [
    "# Fit the basic model"
   ]
  },
  {
   "cell_type": "code",
   "execution_count": 104,
   "metadata": {
    "collapsed": false
   },
   "outputs": [
    {
     "name": "stdout",
     "output_type": "stream",
     "text": [
      "CPU times: user 28.5 s, sys: 1.11 s, total: 29.6 s\n",
      "Wall time: 20.9 s\n"
     ]
    }
   ],
   "source": [
    "%time model = sm.poisson('score_delta ~ C(id) + C(position)', data=temp)"
   ]
  },
  {
   "cell_type": "code",
   "execution_count": 105,
   "metadata": {
    "collapsed": false
   },
   "outputs": [
    {
     "name": "stdout",
     "output_type": "stream",
     "text": [
      "CPU times: user 3min 55s, sys: 2.83 s, total: 3min 58s\n",
      "Wall time: 2min 22s\n"
     ]
    }
   ],
   "source": [
    "%time fittedModel = model.fit(method='lbfgs', maxiter=5000)"
   ]
  },
  {
   "cell_type": "code",
   "execution_count": 68,
   "metadata": {
    "collapsed": false
   },
   "outputs": [
    {
     "data": {
      "text/plain": [
       "Intercept           1.675757\n",
       "C(id)[T.9631580]   -2.251638\n",
       "C(id)[T.9632604]    0.887215\n",
       "C(id)[T.9632928]    0.174629\n",
       "C(id)[T.9633038]   -5.955184\n",
       "dtype: float64"
      ]
     },
     "execution_count": 68,
     "metadata": {},
     "output_type": "execute_result"
    }
   ],
   "source": [
    "fittedModel.params.head()"
   ]
  },
  {
   "cell_type": "code",
   "execution_count": 88,
   "metadata": {
    "collapsed": false
   },
   "outputs": [
    {
     "data": {
      "text/plain": [
       "Intercept            6.675757\n",
       "C(id)[T.9631580]     2.748362\n",
       "C(id)[T.9632604]     5.887215\n",
       "C(id)[T.9632928]     5.174629\n",
       "C(id)[T.9633038]    -0.955184\n",
       "C(id)[T.9633051]     5.971427\n",
       "C(id)[T.9633170]    -0.156288\n",
       "C(id)[T.9633251]    -0.329970\n",
       "C(id)[T.9633487]     5.504299\n",
       "C(id)[T.9633534]    -0.540006\n",
       "C(id)[T.9633740]     6.815654\n",
       "C(id)[T.9633834]    -0.672816\n",
       "C(id)[T.9633884]     0.016382\n",
       "C(id)[T.9633921]     6.195081\n",
       "C(id)[T.9633951]    -0.888968\n",
       "C(id)[T.9633960]    -0.005967\n",
       "C(id)[T.9634082]     5.075738\n",
       "C(id)[T.9634138]     0.550259\n",
       "C(id)[T.9634462]     0.007994\n",
       "C(id)[T.9634468]    -0.334719\n",
       "C(id)[T.9634491]     4.872484\n",
       "C(id)[T.9634506]    -2.398467\n",
       "C(id)[T.9634549]     5.305253\n",
       "C(id)[T.9634557]     4.365942\n",
       "C(id)[T.9634561]    -0.548577\n",
       "C(id)[T.9634610]     5.771585\n",
       "C(id)[T.9634611]     5.978492\n",
       "C(id)[T.9634634]    -1.596578\n",
       "C(id)[T.9634729]    -1.454426\n",
       "C(id)[T.9634742]    -1.157009\n",
       "                       ...   \n",
       "C(position)[T.61]    0.840940\n",
       "C(position)[T.62]    0.540386\n",
       "C(position)[T.63]    0.614016\n",
       "C(position)[T.64]    0.639863\n",
       "C(position)[T.65]    0.537262\n",
       "C(position)[T.66]    0.499220\n",
       "C(position)[T.67]    0.405920\n",
       "C(position)[T.68]    0.239814\n",
       "C(position)[T.69]    0.541925\n",
       "C(position)[T.70]    0.426649\n",
       "C(position)[T.71]    0.466062\n",
       "C(position)[T.72]    0.150697\n",
       "C(position)[T.73]    0.301775\n",
       "C(position)[T.74]    0.407017\n",
       "C(position)[T.75]    0.258306\n",
       "C(position)[T.76]    0.467958\n",
       "C(position)[T.77]    0.308305\n",
       "C(position)[T.78]    0.022046\n",
       "C(position)[T.79]    0.231085\n",
       "C(position)[T.80]    0.087274\n",
       "C(position)[T.81]    0.157178\n",
       "C(position)[T.82]    0.341420\n",
       "C(position)[T.83]    0.243059\n",
       "C(position)[T.84]    0.130057\n",
       "C(position)[T.85]    0.821337\n",
       "C(position)[T.86]    0.830038\n",
       "C(position)[T.87]    1.288036\n",
       "C(position)[T.88]    1.468534\n",
       "C(position)[T.89]    1.951546\n",
       "C(position)[T.90]    1.908698\n",
       "dtype: float64"
      ]
     },
     "execution_count": 88,
     "metadata": {},
     "output_type": "execute_result"
    }
   ],
   "source": [
    "fittedModel.params"
   ]
  },
  {
   "cell_type": "code",
   "execution_count": 98,
   "metadata": {
    "collapsed": false
   },
   "outputs": [],
   "source": [
    "fittedModel.params = fittedModel.params - 6"
   ]
  },
  {
   "cell_type": "code",
   "execution_count": 99,
   "metadata": {
    "collapsed": false
   },
   "outputs": [
    {
     "data": {
      "text/plain": [
       "array([ 1.52200806,  0.37437582,  0.31081368, ...,  0.03592436,\n",
       "        0.01584194,  0.0164471 ])"
      ]
     },
     "execution_count": 99,
     "metadata": {},
     "output_type": "execute_result"
    }
   ],
   "source": [
    "fittedModel.model.predict(fittedModel.params)"
   ]
  },
  {
   "cell_type": "code",
   "execution_count": null,
   "metadata": {
    "collapsed": true
   },
   "outputs": [],
   "source": [
    "fittedModel.model.predict"
   ]
  },
  {
   "cell_type": "code",
   "execution_count": 101,
   "metadata": {
    "collapsed": false
   },
   "outputs": [],
   "source": [
    "fittedModel.predict?"
   ]
  },
  {
   "cell_type": "code",
   "execution_count": 90,
   "metadata": {
    "collapsed": false
   },
   "outputs": [
    {
     "data": {
      "text/plain": [
       "Intercept            16.675757\n",
       "C(id)[T.9631580]     12.748362\n",
       "C(id)[T.9632604]     15.887215\n",
       "C(id)[T.9632928]     15.174629\n",
       "C(id)[T.9633038]      9.044816\n",
       "C(id)[T.9633051]     15.971427\n",
       "C(id)[T.9633170]      9.843712\n",
       "C(id)[T.9633251]      9.670030\n",
       "C(id)[T.9633487]     15.504299\n",
       "C(id)[T.9633534]      9.459994\n",
       "C(id)[T.9633740]     16.815654\n",
       "C(id)[T.9633834]      9.327184\n",
       "C(id)[T.9633884]     10.016382\n",
       "C(id)[T.9633921]     16.195081\n",
       "C(id)[T.9633951]      9.111032\n",
       "C(id)[T.9633960]      9.994033\n",
       "C(id)[T.9634082]     15.075738\n",
       "C(id)[T.9634138]     10.550259\n",
       "C(id)[T.9634462]     10.007994\n",
       "C(id)[T.9634468]      9.665281\n",
       "C(id)[T.9634491]     14.872484\n",
       "C(id)[T.9634506]      7.601533\n",
       "C(id)[T.9634549]     15.305253\n",
       "C(id)[T.9634557]     14.365942\n",
       "C(id)[T.9634561]      9.451423\n",
       "C(id)[T.9634610]     15.771585\n",
       "C(id)[T.9634611]     15.978492\n",
       "C(id)[T.9634634]      8.403422\n",
       "C(id)[T.9634729]      8.545574\n",
       "C(id)[T.9634742]      8.842991\n",
       "                       ...    \n",
       "C(position)[T.61]    10.840940\n",
       "C(position)[T.62]    10.540386\n",
       "C(position)[T.63]    10.614016\n",
       "C(position)[T.64]    10.639863\n",
       "C(position)[T.65]    10.537262\n",
       "C(position)[T.66]    10.499220\n",
       "C(position)[T.67]    10.405920\n",
       "C(position)[T.68]    10.239814\n",
       "C(position)[T.69]    10.541925\n",
       "C(position)[T.70]    10.426649\n",
       "C(position)[T.71]    10.466062\n",
       "C(position)[T.72]    10.150697\n",
       "C(position)[T.73]    10.301775\n",
       "C(position)[T.74]    10.407017\n",
       "C(position)[T.75]    10.258306\n",
       "C(position)[T.76]    10.467958\n",
       "C(position)[T.77]    10.308305\n",
       "C(position)[T.78]    10.022046\n",
       "C(position)[T.79]    10.231085\n",
       "C(position)[T.80]    10.087274\n",
       "C(position)[T.81]    10.157178\n",
       "C(position)[T.82]    10.341420\n",
       "C(position)[T.83]    10.243059\n",
       "C(position)[T.84]    10.130057\n",
       "C(position)[T.85]    10.821337\n",
       "C(position)[T.86]    10.830038\n",
       "C(position)[T.87]    11.288036\n",
       "C(position)[T.88]    11.468534\n",
       "C(position)[T.89]    11.951546\n",
       "C(position)[T.90]    11.908698\n",
       "dtype: float64"
      ]
     },
     "execution_count": 90,
     "metadata": {},
     "output_type": "execute_result"
    }
   ],
   "source": [
    "fittedModel.params"
   ]
  },
  {
   "cell_type": "code",
   "execution_count": null,
   "metadata": {
    "collapsed": true
   },
   "outputs": [],
   "source": []
  }
 ],
 "metadata": {
  "kernelspec": {
   "display_name": "Python 2",
   "language": "python",
   "name": "python2"
  },
  "language_info": {
   "codemirror_mode": {
    "name": "ipython",
    "version": 2
   },
   "file_extension": ".py",
   "mimetype": "text/x-python",
   "name": "python",
   "nbconvert_exporter": "python",
   "pygments_lexer": "ipython2",
   "version": "2.7.10"
  }
 },
 "nbformat": 4,
 "nbformat_minor": 0
}
